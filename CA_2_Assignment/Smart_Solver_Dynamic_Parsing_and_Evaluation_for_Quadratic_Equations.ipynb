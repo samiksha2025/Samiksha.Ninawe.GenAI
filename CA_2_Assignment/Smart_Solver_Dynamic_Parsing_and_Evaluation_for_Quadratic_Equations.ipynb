{
  "nbformat": 4,
  "nbformat_minor": 0,
  "metadata": {
    "colab": {
      "provenance": []
    },
    "kernelspec": {
      "name": "python3",
      "display_name": "Python 3"
    },
    "language_info": {
      "name": "python"
    }
  },
  "cells": [
    {
      "cell_type": "code",
      "execution_count": 1,
      "metadata": {
        "colab": {
          "base_uri": "https://localhost:8080/"
        },
        "id": "SxNu0EEY7hKf",
        "outputId": "c13851ec-7524-49be-b426-3d7437d0e399"
      },
      "outputs": [
        {
          "output_type": "stream",
          "name": "stdout",
          "text": [
            "Enter a quadratic equation in the form: ax^2 + bx + c = 0\n",
            "Please enter your equation: 6x^2+9x+3=0\n",
            "Parsed coefficients: a = 6.0, b = 9.0, c = 3.0\n",
            "Enter the value of x: 5\n",
            "The result of the equation 6x^2+9x+3=0 for x = 5.0 is: 198.0\n"
          ]
        }
      ],
      "source": [
        "import re\n",
        "\n",
        "# Function to parse the quadratic equation\n",
        "def parse_equation(equation):\n",
        "    # Extract coefficients using regex\n",
        "    pattern = r\"([-+]?\\d*\\.?\\d*)x\\^2\\s*([-+]?\\d*\\.?\\d*)x\\s*([-+]?\\d*\\.?\\d*)\\s*=\\s*0\"\n",
        "    match = re.match(pattern, equation.replace(\" \", \"\"))\n",
        "\n",
        "    if match:\n",
        "        a = float(match.group(1)) if match.group(1) else 1.0\n",
        "        b = float(match.group(2)) if match.group(2) else 0.0\n",
        "        c = float(match.group(3)) if match.group(3) else 0.0\n",
        "        return a, b, c\n",
        "    else:\n",
        "        raise ValueError(\"Equation format is incorrect\")\n",
        "\n",
        "# Function to evaluate the quadratic equation\n",
        "def evaluate_quadratic(a, b, c, x):\n",
        "    return a * x**2 + b * x + c\n",
        "\n",
        "def main():\n",
        "    # Define the equation format\n",
        "    equation = \"ax^2 + bx + c = 0\"\n",
        "    print(f\"Enter a quadratic equation in the form: {equation}\")\n",
        "\n",
        "    # Get the equation from user\n",
        "    user_equation = input(\"Please enter your equation: \")\n",
        "\n",
        "    try:\n",
        "        # Parse the equation to get coefficients\n",
        "        a, b, c = parse_equation(user_equation)\n",
        "        print(f\"Parsed coefficients: a = {a}, b = {b}, c = {c}\")\n",
        "\n",
        "        # Ask for the value of x\n",
        "        x = float(input(\"Enter the value of x: \"))\n",
        "\n",
        "        # Evaluate the equation\n",
        "        result = evaluate_quadratic(a, b, c, x)\n",
        "        print(f\"The result of the equation {user_equation} for x = {x} is: {result}\")\n",
        "\n",
        "    except ValueError as e:\n",
        "        print(e)\n",
        "\n",
        "if __name__ == \"__main__\":\n",
        "    main()\n"
      ]
    }
  ]
}